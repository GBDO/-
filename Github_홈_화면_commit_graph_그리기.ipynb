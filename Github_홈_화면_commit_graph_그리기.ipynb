{
  "nbformat": 4,
  "nbformat_minor": 0,
  "metadata": {
    "colab": {
      "name": "Github 홈 화면 commit graph 그리기.ipynb",
      "provenance": []
    },
    "kernelspec": {
      "name": "python3",
      "display_name": "Python 3"
    },
    "language_info": {
      "name": "python"
    }
  },
  "cells": [
    {
      "cell_type": "markdown",
      "source": [
        "출처 : [https://github.com/lowlighter/metrics/blob/master/.github/readme/partials/documentation/setup/action.md](https://github.com/lowlighter/metrics/blob/master/.github/readme/partials/documentation/setup/action.md)\n",
        "\n",
        "### **깃허브 이름과 같은 레포지토리(이하 레포) 생성**\n",
        "\n",
        "[##_Image|kage@BGjN6/btrzbeyx3xp/LgpW9ep2e4Q6tKUuKtuFvk/img.png|CDM|1.3|{\"originWidth\":2560,\"originHeight\":1291,\"style\":\"alignCenter\",\"width\":636,\"height\":321,\"caption\":\"레포지토리 탭에 들어가 'New' 클릭\",\"filename\":\"레포_생성.png\"}_##][##_Image|kage@bJ0kx0/btrzcPSCPUc/mUl50XAKiMWxWSfxFTBLo0/img.png|CDM|1.3|{\"originWidth\":932,\"originHeight\":1225,\"style\":\"alignCenter\",\"width\":635,\"height\":834,\"caption\":\"레포 생성 창\",\"filename\":\"레포_생성2.png\"}_##]\n",
        "\n",
        "Repository name에 본인의 깃허브 이름을 넣습니다. 저의 경우는 GBDO가 되죠, 그리고 Add a README file을 체크한 후 Create repository를 클릭하여 생성을 마칩니다.\n",
        "\n",
        "### **토큰 만들기**\n",
        "\n",
        "[##_Image|kage@cAX2wR/btrzdp0agJD/mcHcU4ZMtbBBvncMamwA50/img.png|CDM|1.3|{\"originWidth\":1943,\"originHeight\":859,\"style\":\"alignCenter\",\"width\":704,\"height\":311,\"caption\":\"오른쪽 상단에 프로필을 클릭 -&gt; 나오는 메뉴에서 Setting을 클릭\",\"filename\":\"세팅_들어가기.png\"}_##][##_Image|kage@cfvgXs/btrzdfJVz9w/pSVtGI1kZkDG6GShKT4Fi1/img.png|CDM|1.3|{\"originWidth\":1143,\"originHeight\":1215,\"style\":\"alignCenter\",\"width\":615,\"height\":654,\"caption\":\"Developer settings을 클릭\",\"filename\":\"새 탭 - Chrome 2022-04-12 오후 10_47_08.png\"}_##]\n",
        "\n",
        "[##_Image|kage@uGvmD/btrzcR3CyND/T5YEmHO4KGWRtP1O4MF1W0/img.png|CDM|1.3|{\"originWidth\":1431,\"originHeight\":893,\"style\":\"alignCenter\",\"width\":629,\"height\":393,\"caption\":\"Personal access tokens 클릭 -&gt; Generate new token 클릭\",\"filename\":\"토큰_생성.png\"}_##]\n",
        "\n",
        "[##_Image|kage@bONp53/btrzbdsUKYf/vwQx9k2k08MGRenKzOkMek/img.png|CDM|1.3|{\"originWidth\":774,\"originHeight\":1278,\"style\":\"alignCenter\",\"width\":646,\"height\":1067,\"caption\":\"note에 metrics 입력 -&gt; Expiration에 No expiration 설정(하지 않으면 기한이 생겨 주기적으로 재설정 필요) -&gt; repo, read:org, gist, read:user 클릭 -&gt; Generate token 클릭\",\"filename\":\"새 탭 - Chrome 2022-04-12 오후 10_49_06.png\"}_##]\n",
        "\n",
        "### **레포지토리에 토큰 연결**\n",
        "\n",
        "[##_Image|kage@vatNL/btrzbF3MhOk/KXf7x7KTRdBVV7yKt0EMM1/img.png|CDM|1.3|{\"originWidth\":2560,\"originHeight\":1291,\"style\":\"alignCenter\",\"width\":662,\"height\":334,\"caption\":\"깃허브 이름으로 생성한 레포 클릭\",\"filename\":\"토큰_연결.png\"}_##][##_Image|kage@bhqcVo/btrzaWKTBBY/q4bTzesn18jbahtm7kgGV1/img.png|CDM|1.3|{\"originWidth\":1278,\"originHeight\":1286,\"style\":\"alignCenter\",\"width\":663,\"height\":667,\"caption\":\"Settings 탭 클릭 -&gt; Secrets 아래의 Actions 클릭 -&gt; New repository secret 클릭\",\"filename\":\"토큰_연결2.png\"}_##][##_Image|kage@bNhm4S/btrzeJ4zZQc/ygkKxKS5KcNUEsek6MPTiK/img.png|CDM|1.3|{\"originWidth\":1278,\"originHeight\":1044,\"style\":\"alignCenter\",\"width\":658,\"height\":538,\"caption\":\"Name에 METRICS_TOKEN 입력 -&gt; Value에 생성된 토큰 입력 -&gt; Add secret 클릭\",\"filename\":\"토큰_연결3.png\"}_##]\n",
        "\n",
        "### **워크플로우 생성**\n",
        "\n",
        "[##_Image|kage@8bat0/btrzgi6CmGe/QQ6kCSb60KJ7VTBv6gKzcK/img.png|CDM|1.3|{\"originWidth\":1278,\"originHeight\":1391,\"style\":\"alignCenter\",\"width\":665,\"height\":724,\"caption\":\"깃허브 이름으로 생성된 레포의 Actions 탭 클릭 -&gt; New workflow 클릭\",\"filename\":\"워크플로우_1.png\"}_##]\n",
        "\n",
        "[##_Image|kage@byEVZV/btrzfvZj33B/8gGpRxk1tgD7aY1NqEBvZK/img.png|CDM|1.3|{\"originWidth\":1278,\"originHeight\":1391,\"style\":\"alignCenter\",\"width\":661,\"height\":720,\"caption\":\"set up a workflow yourself 클릭\",\"filename\":\"워크플로우_2.png\"}_##]\n",
        "\n",
        "우리들은 워크플로우를 불러오는 것이 아니라 복사, 붙어넣을 것이기 때문에 직접 설정에 해당합니다.\n",
        "\n",
        "[##_Image|kage@o9Bzc/btrzcQYjOKh/aZNEAZGXku5nfGAY8X7z30/img.png|CDM|1.3|{\"originWidth\":1278,\"originHeight\":1391,\"style\":\"alignCenter\",\"width\":658,\"height\":716,\"caption\":\"workflow의 이름은 metrics.yml 입력 -&gt; Edit new file에 아래 코드 입력\",\"filename\":\"워크플로우_3.png\"}_##]\n",
        "\n",
        "```\n",
        "name: Metrics\n",
        "on:\n",
        "  # Schedule daily updates\n",
        "  schedule: [{cron: \"0 0 * * *\"}]\n",
        "  # (optional) Run workflow manually\n",
        "  workflow_dispatch:\n",
        "  # (optional) Run workflow when pushing on master/main\n",
        "  push: {branches: [\"master\", \"main\"]}\n",
        "jobs:\n",
        "  github-metrics:\n",
        "    runs-on: ubuntu-latest\n",
        "    steps:\n",
        "      - name: Full-year calendar\n",
        "        uses: lowlighter/metrics@latest\n",
        "        with: \n",
        "            filename: metrics.plugin.isocalendar.fullyear.svg\n",
        "            token: ${{ secrets.METRICS_TOKEN }}\n",
        "            base: \"\"\n",
        "            plugin_isocalendar: yes\n",
        "            plugin_isocalendar_duration: full-year\n",
        "```\n",
        "\n",
        "코드변경 없이 그대로 작성하면 됩니다.\n",
        "\n",
        "### **마무리**\n",
        "\n",
        "위의 작업을 모두 완료하면 아래와 같이 깃허브 이름의 레포에 'metrics.plugin.isocalendar.fullyear.svg' 파일이 생성됩니다.\n",
        "\n",
        "[##_Image|kage@bh3Ogk/btrzda3jjkh/r96YFczlZJpFQhGgT2TEF0/img.png|CDM|1.3|{\"originWidth\":1278,\"originHeight\":366,\"style\":\"alignCenter\",\"width\":699,\"height\":200,\"filename\":\"GBDO_GBDO - Chrome 2022-04-12 오후 11_43_51.png\"}_##]\n",
        "\n",
        "README.md 파일에 아래 코드를 입력하면 깃허브 홈 화면에 1년간 commit 추이를 확인할 수 있는 commit graph가 생성됩니다.\n",
        "\n",
        "```\n",
        "![Metrics](/metrics.plugin.isocalendar.fullyear.svg)\n",
        "```"
      ],
      "metadata": {
        "id": "HcC6nV54Rtme"
      }
    }
  ]
}